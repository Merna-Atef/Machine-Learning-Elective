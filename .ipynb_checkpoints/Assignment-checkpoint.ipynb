{
 "cells": [
  {
   "cell_type": "markdown",
   "metadata": {},
   "source": [
    "# Imports"
   ]
  },
  {
   "cell_type": "code",
   "execution_count": 1,
   "metadata": {
    "ExecuteTime": {
     "end_time": "2020-04-18T15:45:44.504734Z",
     "start_time": "2020-04-18T15:45:42.968931Z"
    }
   },
   "outputs": [],
   "source": [
    "import numpy as np\n",
    "import pandas as pd\n",
    "from sklearn import datasets\n",
    "from sklearn.model_selection import train_test_split\n",
    "from sklearn import metrics\n",
    "from sklearn.naive_bayes import GaussianNB\n",
    "from sklearn import tree\n",
    "from sklearn.svm import LinearSVC, SVC\n",
    "from sklearn import preprocessing\n",
    "import matplotlib.pyplot as plt\n",
    "from sklearn.ensemble import BaggingClassifier, VotingClassifier"
   ]
  },
  {
   "cell_type": "markdown",
   "metadata": {},
   "source": [
    "# Read data"
   ]
  },
  {
   "cell_type": "code",
   "execution_count": 2,
   "metadata": {
    "ExecuteTime": {
     "end_time": "2020-04-18T15:45:50.288133Z",
     "start_time": "2020-04-18T15:45:45.900760Z"
    }
   },
   "outputs": [],
   "source": [
    "train = pd.read_csv('mnist_train.csv')\n",
    "test = pd.read_csv('mnist_test.csv')"
   ]
  },
  {
   "cell_type": "code",
   "execution_count": 142,
   "metadata": {
    "ExecuteTime": {
     "end_time": "2020-04-18T07:14:21.888490Z",
     "start_time": "2020-04-18T07:14:21.750972Z"
    }
   },
   "outputs": [
    {
     "name": "stdout",
     "output_type": "stream",
     "text": [
      "<class 'pandas.core.frame.DataFrame'>\n",
      "RangeIndex: 60000 entries, 0 to 59999\n",
      "Columns: 785 entries, label to 28x28\n",
      "dtypes: int64(785)\n",
      "memory usage: 359.3 MB\n"
     ]
    }
   ],
   "source": [
    "train.info()"
   ]
  },
  {
   "cell_type": "code",
   "execution_count": 143,
   "metadata": {
    "ExecuteTime": {
     "end_time": "2020-04-18T07:14:24.154887Z",
     "start_time": "2020-04-18T07:14:24.077096Z"
    },
    "scrolled": true
   },
   "outputs": [
    {
     "data": {
      "text/html": [
       "<div>\n",
       "<style scoped>\n",
       "    .dataframe tbody tr th:only-of-type {\n",
       "        vertical-align: middle;\n",
       "    }\n",
       "\n",
       "    .dataframe tbody tr th {\n",
       "        vertical-align: top;\n",
       "    }\n",
       "\n",
       "    .dataframe thead th {\n",
       "        text-align: right;\n",
       "    }\n",
       "</style>\n",
       "<table border=\"1\" class=\"dataframe\">\n",
       "  <thead>\n",
       "    <tr style=\"text-align: right;\">\n",
       "      <th></th>\n",
       "      <th>label</th>\n",
       "      <th>1x1</th>\n",
       "      <th>1x2</th>\n",
       "      <th>1x3</th>\n",
       "      <th>1x4</th>\n",
       "      <th>1x5</th>\n",
       "      <th>1x6</th>\n",
       "      <th>1x7</th>\n",
       "      <th>1x8</th>\n",
       "      <th>1x9</th>\n",
       "      <th>...</th>\n",
       "      <th>28x19</th>\n",
       "      <th>28x20</th>\n",
       "      <th>28x21</th>\n",
       "      <th>28x22</th>\n",
       "      <th>28x23</th>\n",
       "      <th>28x24</th>\n",
       "      <th>28x25</th>\n",
       "      <th>28x26</th>\n",
       "      <th>28x27</th>\n",
       "      <th>28x28</th>\n",
       "    </tr>\n",
       "  </thead>\n",
       "  <tbody>\n",
       "    <tr>\n",
       "      <th>0</th>\n",
       "      <td>5</td>\n",
       "      <td>0</td>\n",
       "      <td>0</td>\n",
       "      <td>0</td>\n",
       "      <td>0</td>\n",
       "      <td>0</td>\n",
       "      <td>0</td>\n",
       "      <td>0</td>\n",
       "      <td>0</td>\n",
       "      <td>0</td>\n",
       "      <td>...</td>\n",
       "      <td>0</td>\n",
       "      <td>0</td>\n",
       "      <td>0</td>\n",
       "      <td>0</td>\n",
       "      <td>0</td>\n",
       "      <td>0</td>\n",
       "      <td>0</td>\n",
       "      <td>0</td>\n",
       "      <td>0</td>\n",
       "      <td>0</td>\n",
       "    </tr>\n",
       "    <tr>\n",
       "      <th>1</th>\n",
       "      <td>0</td>\n",
       "      <td>0</td>\n",
       "      <td>0</td>\n",
       "      <td>0</td>\n",
       "      <td>0</td>\n",
       "      <td>0</td>\n",
       "      <td>0</td>\n",
       "      <td>0</td>\n",
       "      <td>0</td>\n",
       "      <td>0</td>\n",
       "      <td>...</td>\n",
       "      <td>0</td>\n",
       "      <td>0</td>\n",
       "      <td>0</td>\n",
       "      <td>0</td>\n",
       "      <td>0</td>\n",
       "      <td>0</td>\n",
       "      <td>0</td>\n",
       "      <td>0</td>\n",
       "      <td>0</td>\n",
       "      <td>0</td>\n",
       "    </tr>\n",
       "    <tr>\n",
       "      <th>2</th>\n",
       "      <td>4</td>\n",
       "      <td>0</td>\n",
       "      <td>0</td>\n",
       "      <td>0</td>\n",
       "      <td>0</td>\n",
       "      <td>0</td>\n",
       "      <td>0</td>\n",
       "      <td>0</td>\n",
       "      <td>0</td>\n",
       "      <td>0</td>\n",
       "      <td>...</td>\n",
       "      <td>0</td>\n",
       "      <td>0</td>\n",
       "      <td>0</td>\n",
       "      <td>0</td>\n",
       "      <td>0</td>\n",
       "      <td>0</td>\n",
       "      <td>0</td>\n",
       "      <td>0</td>\n",
       "      <td>0</td>\n",
       "      <td>0</td>\n",
       "    </tr>\n",
       "    <tr>\n",
       "      <th>3</th>\n",
       "      <td>1</td>\n",
       "      <td>0</td>\n",
       "      <td>0</td>\n",
       "      <td>0</td>\n",
       "      <td>0</td>\n",
       "      <td>0</td>\n",
       "      <td>0</td>\n",
       "      <td>0</td>\n",
       "      <td>0</td>\n",
       "      <td>0</td>\n",
       "      <td>...</td>\n",
       "      <td>0</td>\n",
       "      <td>0</td>\n",
       "      <td>0</td>\n",
       "      <td>0</td>\n",
       "      <td>0</td>\n",
       "      <td>0</td>\n",
       "      <td>0</td>\n",
       "      <td>0</td>\n",
       "      <td>0</td>\n",
       "      <td>0</td>\n",
       "    </tr>\n",
       "    <tr>\n",
       "      <th>4</th>\n",
       "      <td>9</td>\n",
       "      <td>0</td>\n",
       "      <td>0</td>\n",
       "      <td>0</td>\n",
       "      <td>0</td>\n",
       "      <td>0</td>\n",
       "      <td>0</td>\n",
       "      <td>0</td>\n",
       "      <td>0</td>\n",
       "      <td>0</td>\n",
       "      <td>...</td>\n",
       "      <td>0</td>\n",
       "      <td>0</td>\n",
       "      <td>0</td>\n",
       "      <td>0</td>\n",
       "      <td>0</td>\n",
       "      <td>0</td>\n",
       "      <td>0</td>\n",
       "      <td>0</td>\n",
       "      <td>0</td>\n",
       "      <td>0</td>\n",
       "    </tr>\n",
       "  </tbody>\n",
       "</table>\n",
       "<p>5 rows × 785 columns</p>\n",
       "</div>"
      ],
      "text/plain": [
       "   label  1x1  1x2  1x3  1x4  1x5  1x6  1x7  1x8  1x9  ...  28x19  28x20  \\\n",
       "0      5    0    0    0    0    0    0    0    0    0  ...      0      0   \n",
       "1      0    0    0    0    0    0    0    0    0    0  ...      0      0   \n",
       "2      4    0    0    0    0    0    0    0    0    0  ...      0      0   \n",
       "3      1    0    0    0    0    0    0    0    0    0  ...      0      0   \n",
       "4      9    0    0    0    0    0    0    0    0    0  ...      0      0   \n",
       "\n",
       "   28x21  28x22  28x23  28x24  28x25  28x26  28x27  28x28  \n",
       "0      0      0      0      0      0      0      0      0  \n",
       "1      0      0      0      0      0      0      0      0  \n",
       "2      0      0      0      0      0      0      0      0  \n",
       "3      0      0      0      0      0      0      0      0  \n",
       "4      0      0      0      0      0      0      0      0  \n",
       "\n",
       "[5 rows x 785 columns]"
      ]
     },
     "execution_count": 143,
     "metadata": {},
     "output_type": "execute_result"
    }
   ],
   "source": [
    "train.head()"
   ]
  },
  {
   "cell_type": "code",
   "execution_count": 145,
   "metadata": {
    "ExecuteTime": {
     "end_time": "2020-04-18T07:15:12.383608Z",
     "start_time": "2020-04-18T07:15:12.206347Z"
    }
   },
   "outputs": [
    {
     "name": "stdout",
     "output_type": "stream",
     "text": [
      "Series([], dtype: int64)\n"
     ]
    }
   ],
   "source": [
    "nan = train.isnull().sum()\n",
    "print(nan[nan != 0])"
   ]
  },
  {
   "cell_type": "markdown",
   "metadata": {},
   "source": [
    "# Data preprocessing"
   ]
  },
  {
   "cell_type": "code",
   "execution_count": 25,
   "metadata": {
    "ExecuteTime": {
     "end_time": "2020-04-18T16:50:35.032561Z",
     "start_time": "2020-04-18T16:50:34.680270Z"
    }
   },
   "outputs": [],
   "source": [
    "train_y = train['label']\n",
    "train_x = train.drop(columns = 'label', inplace = False)\n",
    "test_y = test['label']\n",
    "test_x = test.drop(columns = 'label', inplace = False)"
   ]
  },
  {
   "cell_type": "code",
   "execution_count": 147,
   "metadata": {
    "ExecuteTime": {
     "end_time": "2020-04-18T07:15:45.631257Z",
     "start_time": "2020-04-18T07:15:43.029552Z"
    },
    "scrolled": true
   },
   "outputs": [
    {
     "data": {
      "text/html": [
       "<div>\n",
       "<style scoped>\n",
       "    .dataframe tbody tr th:only-of-type {\n",
       "        vertical-align: middle;\n",
       "    }\n",
       "\n",
       "    .dataframe tbody tr th {\n",
       "        vertical-align: top;\n",
       "    }\n",
       "\n",
       "    .dataframe thead th {\n",
       "        text-align: right;\n",
       "    }\n",
       "</style>\n",
       "<table border=\"1\" class=\"dataframe\">\n",
       "  <thead>\n",
       "    <tr style=\"text-align: right;\">\n",
       "      <th></th>\n",
       "      <th>1x1</th>\n",
       "      <th>1x2</th>\n",
       "      <th>1x3</th>\n",
       "      <th>1x4</th>\n",
       "      <th>1x5</th>\n",
       "      <th>1x6</th>\n",
       "      <th>1x7</th>\n",
       "      <th>1x8</th>\n",
       "      <th>1x9</th>\n",
       "      <th>1x10</th>\n",
       "      <th>...</th>\n",
       "      <th>28x19</th>\n",
       "      <th>28x20</th>\n",
       "      <th>28x21</th>\n",
       "      <th>28x22</th>\n",
       "      <th>28x23</th>\n",
       "      <th>28x24</th>\n",
       "      <th>28x25</th>\n",
       "      <th>28x26</th>\n",
       "      <th>28x27</th>\n",
       "      <th>28x28</th>\n",
       "    </tr>\n",
       "  </thead>\n",
       "  <tbody>\n",
       "    <tr>\n",
       "      <th>count</th>\n",
       "      <td>60000.0</td>\n",
       "      <td>60000.0</td>\n",
       "      <td>60000.0</td>\n",
       "      <td>60000.0</td>\n",
       "      <td>60000.0</td>\n",
       "      <td>60000.0</td>\n",
       "      <td>60000.0</td>\n",
       "      <td>60000.0</td>\n",
       "      <td>60000.0</td>\n",
       "      <td>60000.0</td>\n",
       "      <td>...</td>\n",
       "      <td>60000.000000</td>\n",
       "      <td>60000.000000</td>\n",
       "      <td>60000.000000</td>\n",
       "      <td>60000.000000</td>\n",
       "      <td>60000.000000</td>\n",
       "      <td>60000.0000</td>\n",
       "      <td>60000.0</td>\n",
       "      <td>60000.0</td>\n",
       "      <td>60000.0</td>\n",
       "      <td>60000.0</td>\n",
       "    </tr>\n",
       "    <tr>\n",
       "      <th>mean</th>\n",
       "      <td>0.0</td>\n",
       "      <td>0.0</td>\n",
       "      <td>0.0</td>\n",
       "      <td>0.0</td>\n",
       "      <td>0.0</td>\n",
       "      <td>0.0</td>\n",
       "      <td>0.0</td>\n",
       "      <td>0.0</td>\n",
       "      <td>0.0</td>\n",
       "      <td>0.0</td>\n",
       "      <td>...</td>\n",
       "      <td>0.200433</td>\n",
       "      <td>0.088867</td>\n",
       "      <td>0.045633</td>\n",
       "      <td>0.019283</td>\n",
       "      <td>0.015117</td>\n",
       "      <td>0.0020</td>\n",
       "      <td>0.0</td>\n",
       "      <td>0.0</td>\n",
       "      <td>0.0</td>\n",
       "      <td>0.0</td>\n",
       "    </tr>\n",
       "    <tr>\n",
       "      <th>std</th>\n",
       "      <td>0.0</td>\n",
       "      <td>0.0</td>\n",
       "      <td>0.0</td>\n",
       "      <td>0.0</td>\n",
       "      <td>0.0</td>\n",
       "      <td>0.0</td>\n",
       "      <td>0.0</td>\n",
       "      <td>0.0</td>\n",
       "      <td>0.0</td>\n",
       "      <td>0.0</td>\n",
       "      <td>...</td>\n",
       "      <td>6.042472</td>\n",
       "      <td>3.956189</td>\n",
       "      <td>2.839845</td>\n",
       "      <td>1.686770</td>\n",
       "      <td>1.678283</td>\n",
       "      <td>0.3466</td>\n",
       "      <td>0.0</td>\n",
       "      <td>0.0</td>\n",
       "      <td>0.0</td>\n",
       "      <td>0.0</td>\n",
       "    </tr>\n",
       "    <tr>\n",
       "      <th>min</th>\n",
       "      <td>0.0</td>\n",
       "      <td>0.0</td>\n",
       "      <td>0.0</td>\n",
       "      <td>0.0</td>\n",
       "      <td>0.0</td>\n",
       "      <td>0.0</td>\n",
       "      <td>0.0</td>\n",
       "      <td>0.0</td>\n",
       "      <td>0.0</td>\n",
       "      <td>0.0</td>\n",
       "      <td>...</td>\n",
       "      <td>0.000000</td>\n",
       "      <td>0.000000</td>\n",
       "      <td>0.000000</td>\n",
       "      <td>0.000000</td>\n",
       "      <td>0.000000</td>\n",
       "      <td>0.0000</td>\n",
       "      <td>0.0</td>\n",
       "      <td>0.0</td>\n",
       "      <td>0.0</td>\n",
       "      <td>0.0</td>\n",
       "    </tr>\n",
       "    <tr>\n",
       "      <th>25%</th>\n",
       "      <td>0.0</td>\n",
       "      <td>0.0</td>\n",
       "      <td>0.0</td>\n",
       "      <td>0.0</td>\n",
       "      <td>0.0</td>\n",
       "      <td>0.0</td>\n",
       "      <td>0.0</td>\n",
       "      <td>0.0</td>\n",
       "      <td>0.0</td>\n",
       "      <td>0.0</td>\n",
       "      <td>...</td>\n",
       "      <td>0.000000</td>\n",
       "      <td>0.000000</td>\n",
       "      <td>0.000000</td>\n",
       "      <td>0.000000</td>\n",
       "      <td>0.000000</td>\n",
       "      <td>0.0000</td>\n",
       "      <td>0.0</td>\n",
       "      <td>0.0</td>\n",
       "      <td>0.0</td>\n",
       "      <td>0.0</td>\n",
       "    </tr>\n",
       "    <tr>\n",
       "      <th>50%</th>\n",
       "      <td>0.0</td>\n",
       "      <td>0.0</td>\n",
       "      <td>0.0</td>\n",
       "      <td>0.0</td>\n",
       "      <td>0.0</td>\n",
       "      <td>0.0</td>\n",
       "      <td>0.0</td>\n",
       "      <td>0.0</td>\n",
       "      <td>0.0</td>\n",
       "      <td>0.0</td>\n",
       "      <td>...</td>\n",
       "      <td>0.000000</td>\n",
       "      <td>0.000000</td>\n",
       "      <td>0.000000</td>\n",
       "      <td>0.000000</td>\n",
       "      <td>0.000000</td>\n",
       "      <td>0.0000</td>\n",
       "      <td>0.0</td>\n",
       "      <td>0.0</td>\n",
       "      <td>0.0</td>\n",
       "      <td>0.0</td>\n",
       "    </tr>\n",
       "    <tr>\n",
       "      <th>75%</th>\n",
       "      <td>0.0</td>\n",
       "      <td>0.0</td>\n",
       "      <td>0.0</td>\n",
       "      <td>0.0</td>\n",
       "      <td>0.0</td>\n",
       "      <td>0.0</td>\n",
       "      <td>0.0</td>\n",
       "      <td>0.0</td>\n",
       "      <td>0.0</td>\n",
       "      <td>0.0</td>\n",
       "      <td>...</td>\n",
       "      <td>0.000000</td>\n",
       "      <td>0.000000</td>\n",
       "      <td>0.000000</td>\n",
       "      <td>0.000000</td>\n",
       "      <td>0.000000</td>\n",
       "      <td>0.0000</td>\n",
       "      <td>0.0</td>\n",
       "      <td>0.0</td>\n",
       "      <td>0.0</td>\n",
       "      <td>0.0</td>\n",
       "    </tr>\n",
       "    <tr>\n",
       "      <th>max</th>\n",
       "      <td>0.0</td>\n",
       "      <td>0.0</td>\n",
       "      <td>0.0</td>\n",
       "      <td>0.0</td>\n",
       "      <td>0.0</td>\n",
       "      <td>0.0</td>\n",
       "      <td>0.0</td>\n",
       "      <td>0.0</td>\n",
       "      <td>0.0</td>\n",
       "      <td>0.0</td>\n",
       "      <td>...</td>\n",
       "      <td>254.000000</td>\n",
       "      <td>254.000000</td>\n",
       "      <td>253.000000</td>\n",
       "      <td>253.000000</td>\n",
       "      <td>254.000000</td>\n",
       "      <td>62.0000</td>\n",
       "      <td>0.0</td>\n",
       "      <td>0.0</td>\n",
       "      <td>0.0</td>\n",
       "      <td>0.0</td>\n",
       "    </tr>\n",
       "  </tbody>\n",
       "</table>\n",
       "<p>8 rows × 784 columns</p>\n",
       "</div>"
      ],
      "text/plain": [
       "           1x1      1x2      1x3      1x4      1x5      1x6      1x7      1x8  \\\n",
       "count  60000.0  60000.0  60000.0  60000.0  60000.0  60000.0  60000.0  60000.0   \n",
       "mean       0.0      0.0      0.0      0.0      0.0      0.0      0.0      0.0   \n",
       "std        0.0      0.0      0.0      0.0      0.0      0.0      0.0      0.0   \n",
       "min        0.0      0.0      0.0      0.0      0.0      0.0      0.0      0.0   \n",
       "25%        0.0      0.0      0.0      0.0      0.0      0.0      0.0      0.0   \n",
       "50%        0.0      0.0      0.0      0.0      0.0      0.0      0.0      0.0   \n",
       "75%        0.0      0.0      0.0      0.0      0.0      0.0      0.0      0.0   \n",
       "max        0.0      0.0      0.0      0.0      0.0      0.0      0.0      0.0   \n",
       "\n",
       "           1x9     1x10  ...         28x19         28x20         28x21  \\\n",
       "count  60000.0  60000.0  ...  60000.000000  60000.000000  60000.000000   \n",
       "mean       0.0      0.0  ...      0.200433      0.088867      0.045633   \n",
       "std        0.0      0.0  ...      6.042472      3.956189      2.839845   \n",
       "min        0.0      0.0  ...      0.000000      0.000000      0.000000   \n",
       "25%        0.0      0.0  ...      0.000000      0.000000      0.000000   \n",
       "50%        0.0      0.0  ...      0.000000      0.000000      0.000000   \n",
       "75%        0.0      0.0  ...      0.000000      0.000000      0.000000   \n",
       "max        0.0      0.0  ...    254.000000    254.000000    253.000000   \n",
       "\n",
       "              28x22         28x23       28x24    28x25    28x26    28x27  \\\n",
       "count  60000.000000  60000.000000  60000.0000  60000.0  60000.0  60000.0   \n",
       "mean       0.019283      0.015117      0.0020      0.0      0.0      0.0   \n",
       "std        1.686770      1.678283      0.3466      0.0      0.0      0.0   \n",
       "min        0.000000      0.000000      0.0000      0.0      0.0      0.0   \n",
       "25%        0.000000      0.000000      0.0000      0.0      0.0      0.0   \n",
       "50%        0.000000      0.000000      0.0000      0.0      0.0      0.0   \n",
       "75%        0.000000      0.000000      0.0000      0.0      0.0      0.0   \n",
       "max      253.000000    254.000000     62.0000      0.0      0.0      0.0   \n",
       "\n",
       "         28x28  \n",
       "count  60000.0  \n",
       "mean       0.0  \n",
       "std        0.0  \n",
       "min        0.0  \n",
       "25%        0.0  \n",
       "50%        0.0  \n",
       "75%        0.0  \n",
       "max        0.0  \n",
       "\n",
       "[8 rows x 784 columns]"
      ]
     },
     "execution_count": 147,
     "metadata": {},
     "output_type": "execute_result"
    }
   ],
   "source": [
    "train_x.describe()"
   ]
  },
  {
   "cell_type": "markdown",
   "metadata": {},
   "source": [
    "# Trial 1 using binary features"
   ]
  },
  {
   "cell_type": "markdown",
   "metadata": {},
   "source": [
    "Rescale image to all be from 0 to 255 then threshold each image to make them binary based on each image's mean"
   ]
  },
  {
   "cell_type": "code",
   "execution_count": 26,
   "metadata": {
    "ExecuteTime": {
     "end_time": "2020-04-18T16:54:43.966204Z",
     "start_time": "2020-04-18T16:50:39.509919Z"
    }
   },
   "outputs": [],
   "source": [
    "for row in train_x.index:\n",
    "    pmin, pmax = train_x.iloc[row].min(), train_x.iloc[row].max()\n",
    "    train_x.iloc[row] = train_x.iloc[row].apply(lambda x: 255*(x-pmin) / (pmax - pmin))\n",
    "    mean = train_x.iloc[row].mean()\n",
    "    train_x.iloc[row] = train_x.iloc[row].apply(lambda x: 0 if x<mean else 255)"
   ]
  },
  {
   "cell_type": "code",
   "execution_count": 27,
   "metadata": {
    "ExecuteTime": {
     "end_time": "2020-04-18T16:55:24.539202Z",
     "start_time": "2020-04-18T16:54:43.966204Z"
    }
   },
   "outputs": [],
   "source": [
    "for row in test_x.index:\n",
    "    pmin, pmax = test_x.iloc[row].min(), test_x.iloc[row].max()\n",
    "    test_x.iloc[row] = test_x.iloc[row].apply(lambda x: 255*(x-pmin) / (pmax - pmin))\n",
    "    mean = test_x.iloc[row].mean()\n",
    "    test_x.iloc[row] = test_x.iloc[row].apply(lambda x: 0 if x<mean else 255)"
   ]
  },
  {
   "cell_type": "code",
   "execution_count": 178,
   "metadata": {
    "ExecuteTime": {
     "end_time": "2020-04-18T07:35:49.380224Z",
     "start_time": "2020-04-18T07:35:46.560832Z"
    }
   },
   "outputs": [
    {
     "data": {
      "text/html": [
       "<div>\n",
       "<style scoped>\n",
       "    .dataframe tbody tr th:only-of-type {\n",
       "        vertical-align: middle;\n",
       "    }\n",
       "\n",
       "    .dataframe tbody tr th {\n",
       "        vertical-align: top;\n",
       "    }\n",
       "\n",
       "    .dataframe thead th {\n",
       "        text-align: right;\n",
       "    }\n",
       "</style>\n",
       "<table border=\"1\" class=\"dataframe\">\n",
       "  <thead>\n",
       "    <tr style=\"text-align: right;\">\n",
       "      <th></th>\n",
       "      <th>1x13</th>\n",
       "      <th>1x14</th>\n",
       "      <th>1x15</th>\n",
       "      <th>2x6</th>\n",
       "      <th>2x7</th>\n",
       "      <th>2x8</th>\n",
       "      <th>2x9</th>\n",
       "      <th>2x10</th>\n",
       "      <th>2x11</th>\n",
       "      <th>2x12</th>\n",
       "      <th>...</th>\n",
       "      <th>28x15</th>\n",
       "      <th>28x16</th>\n",
       "      <th>28x17</th>\n",
       "      <th>28x18</th>\n",
       "      <th>28x19</th>\n",
       "      <th>28x20</th>\n",
       "      <th>28x21</th>\n",
       "      <th>28x22</th>\n",
       "      <th>28x23</th>\n",
       "      <th>28x24</th>\n",
       "    </tr>\n",
       "  </thead>\n",
       "  <tbody>\n",
       "    <tr>\n",
       "      <th>count</th>\n",
       "      <td>60000.000000</td>\n",
       "      <td>60000.000000</td>\n",
       "      <td>60000.000000</td>\n",
       "      <td>60000.000000</td>\n",
       "      <td>60000.000000</td>\n",
       "      <td>60000.000000</td>\n",
       "      <td>60000.000000</td>\n",
       "      <td>60000.000000</td>\n",
       "      <td>60000.000000</td>\n",
       "      <td>60000.000000</td>\n",
       "      <td>...</td>\n",
       "      <td>60000.000000</td>\n",
       "      <td>60000.000000</td>\n",
       "      <td>60000.000000</td>\n",
       "      <td>60000.000000</td>\n",
       "      <td>60000.000000</td>\n",
       "      <td>60000.000000</td>\n",
       "      <td>60000.000000</td>\n",
       "      <td>60000.000000</td>\n",
       "      <td>60000.000000</td>\n",
       "      <td>60000.000000</td>\n",
       "    </tr>\n",
       "    <tr>\n",
       "      <th>mean</th>\n",
       "      <td>0.004250</td>\n",
       "      <td>0.008500</td>\n",
       "      <td>0.004250</td>\n",
       "      <td>0.004250</td>\n",
       "      <td>0.021250</td>\n",
       "      <td>0.038250</td>\n",
       "      <td>0.063750</td>\n",
       "      <td>0.110500</td>\n",
       "      <td>0.174250</td>\n",
       "      <td>0.255000</td>\n",
       "      <td>...</td>\n",
       "      <td>1.083750</td>\n",
       "      <td>0.952000</td>\n",
       "      <td>0.786250</td>\n",
       "      <td>0.548250</td>\n",
       "      <td>0.335750</td>\n",
       "      <td>0.165750</td>\n",
       "      <td>0.072250</td>\n",
       "      <td>0.042500</td>\n",
       "      <td>0.025500</td>\n",
       "      <td>0.008500</td>\n",
       "    </tr>\n",
       "    <tr>\n",
       "      <th>std</th>\n",
       "      <td>1.041033</td>\n",
       "      <td>1.472231</td>\n",
       "      <td>1.041033</td>\n",
       "      <td>1.041033</td>\n",
       "      <td>2.327743</td>\n",
       "      <td>3.122891</td>\n",
       "      <td>4.031434</td>\n",
       "      <td>5.307142</td>\n",
       "      <td>6.663642</td>\n",
       "      <td>8.059842</td>\n",
       "      <td>...</td>\n",
       "      <td>16.588741</td>\n",
       "      <td>15.551776</td>\n",
       "      <td>14.137853</td>\n",
       "      <td>11.811245</td>\n",
       "      <td>9.246889</td>\n",
       "      <td>6.499191</td>\n",
       "      <td>4.291717</td>\n",
       "      <td>3.291789</td>\n",
       "      <td>2.549894</td>\n",
       "      <td>1.472231</td>\n",
       "    </tr>\n",
       "    <tr>\n",
       "      <th>min</th>\n",
       "      <td>0.000000</td>\n",
       "      <td>0.000000</td>\n",
       "      <td>0.000000</td>\n",
       "      <td>0.000000</td>\n",
       "      <td>0.000000</td>\n",
       "      <td>0.000000</td>\n",
       "      <td>0.000000</td>\n",
       "      <td>0.000000</td>\n",
       "      <td>0.000000</td>\n",
       "      <td>0.000000</td>\n",
       "      <td>...</td>\n",
       "      <td>0.000000</td>\n",
       "      <td>0.000000</td>\n",
       "      <td>0.000000</td>\n",
       "      <td>0.000000</td>\n",
       "      <td>0.000000</td>\n",
       "      <td>0.000000</td>\n",
       "      <td>0.000000</td>\n",
       "      <td>0.000000</td>\n",
       "      <td>0.000000</td>\n",
       "      <td>0.000000</td>\n",
       "    </tr>\n",
       "    <tr>\n",
       "      <th>25%</th>\n",
       "      <td>0.000000</td>\n",
       "      <td>0.000000</td>\n",
       "      <td>0.000000</td>\n",
       "      <td>0.000000</td>\n",
       "      <td>0.000000</td>\n",
       "      <td>0.000000</td>\n",
       "      <td>0.000000</td>\n",
       "      <td>0.000000</td>\n",
       "      <td>0.000000</td>\n",
       "      <td>0.000000</td>\n",
       "      <td>...</td>\n",
       "      <td>0.000000</td>\n",
       "      <td>0.000000</td>\n",
       "      <td>0.000000</td>\n",
       "      <td>0.000000</td>\n",
       "      <td>0.000000</td>\n",
       "      <td>0.000000</td>\n",
       "      <td>0.000000</td>\n",
       "      <td>0.000000</td>\n",
       "      <td>0.000000</td>\n",
       "      <td>0.000000</td>\n",
       "    </tr>\n",
       "    <tr>\n",
       "      <th>50%</th>\n",
       "      <td>0.000000</td>\n",
       "      <td>0.000000</td>\n",
       "      <td>0.000000</td>\n",
       "      <td>0.000000</td>\n",
       "      <td>0.000000</td>\n",
       "      <td>0.000000</td>\n",
       "      <td>0.000000</td>\n",
       "      <td>0.000000</td>\n",
       "      <td>0.000000</td>\n",
       "      <td>0.000000</td>\n",
       "      <td>...</td>\n",
       "      <td>0.000000</td>\n",
       "      <td>0.000000</td>\n",
       "      <td>0.000000</td>\n",
       "      <td>0.000000</td>\n",
       "      <td>0.000000</td>\n",
       "      <td>0.000000</td>\n",
       "      <td>0.000000</td>\n",
       "      <td>0.000000</td>\n",
       "      <td>0.000000</td>\n",
       "      <td>0.000000</td>\n",
       "    </tr>\n",
       "    <tr>\n",
       "      <th>75%</th>\n",
       "      <td>0.000000</td>\n",
       "      <td>0.000000</td>\n",
       "      <td>0.000000</td>\n",
       "      <td>0.000000</td>\n",
       "      <td>0.000000</td>\n",
       "      <td>0.000000</td>\n",
       "      <td>0.000000</td>\n",
       "      <td>0.000000</td>\n",
       "      <td>0.000000</td>\n",
       "      <td>0.000000</td>\n",
       "      <td>...</td>\n",
       "      <td>0.000000</td>\n",
       "      <td>0.000000</td>\n",
       "      <td>0.000000</td>\n",
       "      <td>0.000000</td>\n",
       "      <td>0.000000</td>\n",
       "      <td>0.000000</td>\n",
       "      <td>0.000000</td>\n",
       "      <td>0.000000</td>\n",
       "      <td>0.000000</td>\n",
       "      <td>0.000000</td>\n",
       "    </tr>\n",
       "    <tr>\n",
       "      <th>max</th>\n",
       "      <td>255.000000</td>\n",
       "      <td>255.000000</td>\n",
       "      <td>255.000000</td>\n",
       "      <td>255.000000</td>\n",
       "      <td>255.000000</td>\n",
       "      <td>255.000000</td>\n",
       "      <td>255.000000</td>\n",
       "      <td>255.000000</td>\n",
       "      <td>255.000000</td>\n",
       "      <td>255.000000</td>\n",
       "      <td>...</td>\n",
       "      <td>255.000000</td>\n",
       "      <td>255.000000</td>\n",
       "      <td>255.000000</td>\n",
       "      <td>255.000000</td>\n",
       "      <td>255.000000</td>\n",
       "      <td>255.000000</td>\n",
       "      <td>255.000000</td>\n",
       "      <td>255.000000</td>\n",
       "      <td>255.000000</td>\n",
       "      <td>255.000000</td>\n",
       "    </tr>\n",
       "  </tbody>\n",
       "</table>\n",
       "<p>8 rows × 710 columns</p>\n",
       "</div>"
      ],
      "text/plain": [
       "               1x13          1x14          1x15           2x6           2x7  \\\n",
       "count  60000.000000  60000.000000  60000.000000  60000.000000  60000.000000   \n",
       "mean       0.004250      0.008500      0.004250      0.004250      0.021250   \n",
       "std        1.041033      1.472231      1.041033      1.041033      2.327743   \n",
       "min        0.000000      0.000000      0.000000      0.000000      0.000000   \n",
       "25%        0.000000      0.000000      0.000000      0.000000      0.000000   \n",
       "50%        0.000000      0.000000      0.000000      0.000000      0.000000   \n",
       "75%        0.000000      0.000000      0.000000      0.000000      0.000000   \n",
       "max      255.000000    255.000000    255.000000    255.000000    255.000000   \n",
       "\n",
       "                2x8           2x9          2x10          2x11          2x12  \\\n",
       "count  60000.000000  60000.000000  60000.000000  60000.000000  60000.000000   \n",
       "mean       0.038250      0.063750      0.110500      0.174250      0.255000   \n",
       "std        3.122891      4.031434      5.307142      6.663642      8.059842   \n",
       "min        0.000000      0.000000      0.000000      0.000000      0.000000   \n",
       "25%        0.000000      0.000000      0.000000      0.000000      0.000000   \n",
       "50%        0.000000      0.000000      0.000000      0.000000      0.000000   \n",
       "75%        0.000000      0.000000      0.000000      0.000000      0.000000   \n",
       "max      255.000000    255.000000    255.000000    255.000000    255.000000   \n",
       "\n",
       "       ...         28x15         28x16         28x17         28x18  \\\n",
       "count  ...  60000.000000  60000.000000  60000.000000  60000.000000   \n",
       "mean   ...      1.083750      0.952000      0.786250      0.548250   \n",
       "std    ...     16.588741     15.551776     14.137853     11.811245   \n",
       "min    ...      0.000000      0.000000      0.000000      0.000000   \n",
       "25%    ...      0.000000      0.000000      0.000000      0.000000   \n",
       "50%    ...      0.000000      0.000000      0.000000      0.000000   \n",
       "75%    ...      0.000000      0.000000      0.000000      0.000000   \n",
       "max    ...    255.000000    255.000000    255.000000    255.000000   \n",
       "\n",
       "              28x19         28x20         28x21         28x22         28x23  \\\n",
       "count  60000.000000  60000.000000  60000.000000  60000.000000  60000.000000   \n",
       "mean       0.335750      0.165750      0.072250      0.042500      0.025500   \n",
       "std        9.246889      6.499191      4.291717      3.291789      2.549894   \n",
       "min        0.000000      0.000000      0.000000      0.000000      0.000000   \n",
       "25%        0.000000      0.000000      0.000000      0.000000      0.000000   \n",
       "50%        0.000000      0.000000      0.000000      0.000000      0.000000   \n",
       "75%        0.000000      0.000000      0.000000      0.000000      0.000000   \n",
       "max      255.000000    255.000000    255.000000    255.000000    255.000000   \n",
       "\n",
       "              28x24  \n",
       "count  60000.000000  \n",
       "mean       0.008500  \n",
       "std        1.472231  \n",
       "min        0.000000  \n",
       "25%        0.000000  \n",
       "50%        0.000000  \n",
       "75%        0.000000  \n",
       "max      255.000000  \n",
       "\n",
       "[8 rows x 710 columns]"
      ]
     },
     "execution_count": 178,
     "metadata": {},
     "output_type": "execute_result"
    }
   ],
   "source": [
    "train_x.describe()"
   ]
  },
  {
   "cell_type": "markdown",
   "metadata": {},
   "source": [
    "* Some columns (pixels) have values that don't change (always 0 or 255) throughout whole dataset ==> remove those columns in train and test"
   ]
  },
  {
   "cell_type": "code",
   "execution_count": 28,
   "metadata": {
    "ExecuteTime": {
     "end_time": "2020-04-18T16:55:44.169201Z",
     "start_time": "2020-04-18T16:55:24.539202Z"
    },
    "code_folding": []
   },
   "outputs": [],
   "source": [
    "dropped_0 = []\n",
    "dropped_255 = []\n",
    "for col in train_x:\n",
    "    if train_x[col].min() == 255:\n",
    "        train_x = train_x.drop(columns=[col], inplace=False)\n",
    "        test_x = test_x.drop(columns=[col], inplace=False)\n",
    "        dropped_255.append(col)\n",
    "for col in train_x:\n",
    "    if train_x[col].max() == 0:\n",
    "        train_x = train_x.drop(columns=[col], inplace=False)\n",
    "        test_x = test_x.drop(columns=[col], inplace=False)\n",
    "        dropped_0.append(col)"
   ]
  },
  {
   "cell_type": "markdown",
   "metadata": {},
   "source": [
    "## Separate classifiers"
   ]
  },
  {
   "cell_type": "markdown",
   "metadata": {},
   "source": [
    "**Gaussian Naive Bayes**:"
   ]
  },
  {
   "cell_type": "markdown",
   "metadata": {},
   "source": [
    "* Using bayes' rule for conditional probabilities to predict the probability of belonging to each class.\n",
    "* Naive assumption => features are conditionally independent and have a gaussian distribution\n",
    "* Gave a very low accuracy => I think because it doesn't suite this type of data "
   ]
  },
  {
   "cell_type": "code",
   "execution_count": 29,
   "metadata": {
    "ExecuteTime": {
     "end_time": "2020-04-18T16:55:44.176396Z",
     "start_time": "2020-04-18T16:55:44.169201Z"
    }
   },
   "outputs": [],
   "source": [
    "train_y = train_y.iloc[:15000]\n",
    "train_x = train_x.iloc[:15000]"
   ]
  },
  {
   "cell_type": "code",
   "execution_count": 30,
   "metadata": {
    "ExecuteTime": {
     "end_time": "2020-04-18T16:55:45.586771Z",
     "start_time": "2020-04-18T16:55:44.178390Z"
    }
   },
   "outputs": [
    {
     "name": "stdout",
     "output_type": "stream",
     "text": [
      "Number of mislabeled points out of a total 10000 points : 4507\n",
      "Accuracy: 0.5493\n"
     ]
    }
   ],
   "source": [
    "gnb = GaussianNB()\n",
    "NB = gnb.fit(train_x, train_y)\n",
    "y_pred = NB.predict(test_x)\n",
    "print(\"Number of mislabeled points out of a total %d points : %d\" % (test_x.shape[0], (test_y != y_pred).sum()))\n",
    "print(\"Accuracy:\",metrics.accuracy_score(test_y, y_pred))"
   ]
  },
  {
   "cell_type": "markdown",
   "metadata": {},
   "source": [
    "**Decision Tree**:"
   ]
  },
  {
   "cell_type": "markdown",
   "metadata": {},
   "source": [
    "* What we took in class was ID3 implementation\n",
    "* Scikit uses CART implementation which choses features based on gini value\n",
    "* Some post-pruning is done\n",
    "* It supports numerical target variables (regression) and does not compute rule sets\n",
    "* CART constructs binary trees using the feature and threshold that yield the largest information gain at each node"
   ]
  },
  {
   "cell_type": "code",
   "execution_count": 31,
   "metadata": {
    "ExecuteTime": {
     "end_time": "2020-04-18T16:55:47.252563Z",
     "start_time": "2020-04-18T16:55:45.588769Z"
    }
   },
   "outputs": [],
   "source": [
    "DTclf = tree.DecisionTreeClassifier()\n",
    "DTclf = DTclf.fit(train_x, train_y)"
   ]
  },
  {
   "cell_type": "code",
   "execution_count": 32,
   "metadata": {
    "ExecuteTime": {
     "end_time": "2020-04-18T16:55:47.299657Z",
     "start_time": "2020-04-18T16:55:47.252563Z"
    }
   },
   "outputs": [
    {
     "name": "stdout",
     "output_type": "stream",
     "text": [
      "Number of mislabeled points out of a total 10000 points : 1591\n",
      "Accuracy: 0.8409\n"
     ]
    }
   ],
   "source": [
    "y_pred = DTclf.predict(test_x)\n",
    "print(\"Number of mislabeled points out of a total %d points : %d\" % (test_x.shape[0], (test_y != y_pred).sum()))\n",
    "print(\"Accuracy:\",metrics.accuracy_score(test_y, y_pred))"
   ]
  },
  {
   "cell_type": "markdown",
   "metadata": {},
   "source": [
    "**One-vs-rest SVC**:"
   ]
  },
  {
   "cell_type": "markdown",
   "metadata": {},
   "source": [
    "* SVM works on principle of dividing the data into 2 classes by using a hyperplane that's midway between 2 other hyperplanes described by support vectors.\n",
    "* It uses lagrange to get the new value of weights based on constraints\n",
    "* My implementation of SVM from scratch is in the \"SVM from scratch\" notebook, and based on PEGASUS algorithm whose pseudocode is in the uploaded paper \"PegasosMPB.pdf\".\n",
    "* In Scikit, LinearSVC implements “one-vs-the-rest” multi-class strategy, thus training n_class models. If there are only two classes, only one model is trained.\n",
    "* Gives the highest accuracy"
   ]
  },
  {
   "cell_type": "code",
   "execution_count": 33,
   "metadata": {
    "ExecuteTime": {
     "end_time": "2020-04-18T16:56:06.603707Z",
     "start_time": "2020-04-18T16:55:47.302647Z"
    }
   },
   "outputs": [
    {
     "name": "stderr",
     "output_type": "stream",
     "text": [
      "c:\\users\\merna\\appdata\\local\\programs\\python\\python37\\lib\\site-packages\\sklearn\\svm\\_base.py:947: ConvergenceWarning: Liblinear failed to converge, increase the number of iterations.\n",
      "  \"the number of iterations.\", ConvergenceWarning)\n"
     ]
    },
    {
     "data": {
      "text/plain": [
       "LinearSVC(C=1.0, class_weight=None, dual=True, fit_intercept=True,\n",
       "          intercept_scaling=1, loss='squared_hinge', max_iter=1500,\n",
       "          multi_class='ovr', penalty='l2', random_state=0, tol=1e-05,\n",
       "          verbose=0)"
      ]
     },
     "execution_count": 33,
     "metadata": {},
     "output_type": "execute_result"
    }
   ],
   "source": [
    "SVMclf = LinearSVC(random_state=0, tol=1e-5, max_iter = 1500)\n",
    "SVMclf.fit(train_x, train_y)"
   ]
  },
  {
   "cell_type": "code",
   "execution_count": 34,
   "metadata": {
    "ExecuteTime": {
     "end_time": "2020-04-18T16:56:06.640610Z",
     "start_time": "2020-04-18T16:56:06.605701Z"
    }
   },
   "outputs": [
    {
     "name": "stdout",
     "output_type": "stream",
     "text": [
      "Number of mislabeled points out of a total 10000 points : 1479\n",
      "Accuracy: 0.8521\n"
     ]
    }
   ],
   "source": [
    "y_pred = SVMclf.predict(test_x)\n",
    "print(\"Number of mislabeled points out of a total %d points : %d\" % (test_x.shape[0], (test_y != y_pred).sum()))\n",
    "print(\"Accuracy:\",metrics.accuracy_score(test_y, y_pred))"
   ]
  },
  {
   "cell_type": "markdown",
   "metadata": {},
   "source": [
    "## Ensemble classifier"
   ]
  },
  {
   "cell_type": "markdown",
   "metadata": {},
   "source": [
    "* Ensemble classifiers are based on the concept of combining a number of weak learners to get a strong learner.\n",
    "* In a voting classifier, ‘soft’, predicts the class label based on the argmax of the sums of the predicted probabilities from each class.\n",
    "* The weights given to each estimator are a default of [1, 1, 1]"
   ]
  },
  {
   "cell_type": "code",
   "execution_count": 38,
   "metadata": {
    "ExecuteTime": {
     "end_time": "2020-04-18T17:00:30.601579Z",
     "start_time": "2020-04-18T17:00:30.590616Z"
    }
   },
   "outputs": [],
   "source": [
    "vote = VotingClassifier([('svc', SVC(kernel='linear',probability=True)),\n",
    "                            ('gnb', GaussianNB()),\n",
    "                            ('dt', tree.DecisionTreeClassifier())], voting='soft')\n",
    "# 'lsvc', LinearSVC()\n",
    "# vote = vote.fit(train_x, train_y)"
   ]
  },
  {
   "cell_type": "code",
   "execution_count": 36,
   "metadata": {
    "ExecuteTime": {
     "end_time": "2020-04-18T16:59:14.039379Z",
     "start_time": "2020-04-18T16:58:39.573839Z"
    }
   },
   "outputs": [
    {
     "name": "stdout",
     "output_type": "stream",
     "text": [
      "Number of mislabeled points out of a total 10000 points : 1159\n",
      "Accuracy: 0.8841\n"
     ]
    }
   ],
   "source": [
    "# y_pred = vote.predict(test_x)\n",
    "# print(\"Number of mislabeled points out of a total %d points : %d\" % (test_x.shape[0], (test_y != y_pred).sum()))\n",
    "# print(\"Accuracy:\",metrics.accuracy_score(test_y, y_pred))"
   ]
  },
  {
   "cell_type": "markdown",
   "metadata": {},
   "source": [
    "Bagging, where subsets of dataset are drawn with replacements to train each base_estimator"
   ]
  },
  {
   "cell_type": "code",
   "execution_count": 39,
   "metadata": {
    "ExecuteTime": {
     "end_time": "2020-04-18T17:12:25.741296Z",
     "start_time": "2020-04-18T17:00:34.413743Z"
    }
   },
   "outputs": [],
   "source": [
    "bagging = BaggingClassifier(base_estimator=vote, n_estimators=10, random_state=0)\n",
    "bagging = bagging.fit(train_x, train_y)"
   ]
  },
  {
   "cell_type": "code",
   "execution_count": 40,
   "metadata": {
    "ExecuteTime": {
     "end_time": "2020-04-18T17:16:38.310144Z",
     "start_time": "2020-04-18T17:12:25.741296Z"
    }
   },
   "outputs": [
    {
     "name": "stdout",
     "output_type": "stream",
     "text": [
      "Number of mislabeled points out of a total 10000 points : 937\n",
      "Accuracy: 0.9063\n"
     ]
    }
   ],
   "source": [
    "y_pred = bagging.predict(test_x)\n",
    "print(\"Number of mislabeled points out of a total %d points : %d\" % (test_x.shape[0], (test_y != y_pred).sum()))\n",
    "print(\"Accuracy:\",metrics.accuracy_score(test_y, y_pred))"
   ]
  },
  {
   "cell_type": "markdown",
   "metadata": {},
   "source": [
    "Pasting, where subsets of dataset are drawn without replacements to train each base_estimator"
   ]
  },
  {
   "cell_type": "code",
   "execution_count": 41,
   "metadata": {
    "ExecuteTime": {
     "end_time": "2020-04-18T17:41:11.557877Z",
     "start_time": "2020-04-18T17:16:38.312303Z"
    }
   },
   "outputs": [],
   "source": [
    "pasting = BaggingClassifier(base_estimator=vote, n_estimators=10, random_state=0, bootstrap = False)\n",
    "pasting = pasting.fit(train_x, train_y)"
   ]
  },
  {
   "cell_type": "code",
   "execution_count": 42,
   "metadata": {
    "ExecuteTime": {
     "end_time": "2020-04-18T17:46:50.439559Z",
     "start_time": "2020-04-18T17:41:11.560869Z"
    }
   },
   "outputs": [
    {
     "name": "stdout",
     "output_type": "stream",
     "text": [
      "Number of mislabeled points out of a total 10000 points : 1086\n",
      "Accuracy: 0.8914\n"
     ]
    }
   ],
   "source": [
    "y_pred = pasting.predict(test_x)\n",
    "print(\"Number of mislabeled points out of a total %d points : %d\" % (test_x.shape[0], (test_y != y_pred).sum()))\n",
    "print(\"Accuracy:\",metrics.accuracy_score(test_y, y_pred))"
   ]
  },
  {
   "cell_type": "markdown",
   "metadata": {},
   "source": [
    "# Trial 2 using standard scaled features"
   ]
  },
  {
   "cell_type": "code",
   "execution_count": 17,
   "metadata": {
    "ExecuteTime": {
     "end_time": "2020-04-18T16:47:41.039261Z",
     "start_time": "2020-04-18T16:47:40.523942Z"
    }
   },
   "outputs": [],
   "source": [
    "train_y2 = train['label'].iloc[:15000]\n",
    "train_x2 = train.drop(columns = 'label', inplace = False).iloc[:15000]\n",
    "test_y2 = test['label']\n",
    "test_x2 = test.drop(columns = 'label', inplace = False)"
   ]
  },
  {
   "cell_type": "code",
   "execution_count": 18,
   "metadata": {
    "ExecuteTime": {
     "end_time": "2020-04-18T16:47:57.267809Z",
     "start_time": "2020-04-18T16:47:47.928721Z"
    },
    "code_folding": []
   },
   "outputs": [],
   "source": [
    "dropped_0 = []\n",
    "dropped_255 = []\n",
    "for col in train_x2:\n",
    "    if train_x2[col].min() == 255:\n",
    "        train_x2 = train_x2.drop(columns=[col], inplace=False)\n",
    "        test_x2 = test_x2.drop(columns=[col], inplace=False)\n",
    "        dropped_255.append(col)\n",
    "for col in train_x2:\n",
    "    if train_x2[col].max() == 0:\n",
    "        train_x2 = train_x2.drop(columns=[col], inplace=False)\n",
    "        test_x2 = test_x2.drop(columns=[col], inplace=False)\n",
    "        dropped_0.append(col)"
   ]
  },
  {
   "cell_type": "code",
   "execution_count": 19,
   "metadata": {
    "ExecuteTime": {
     "end_time": "2020-04-18T16:47:57.729912Z",
     "start_time": "2020-04-18T16:47:57.267809Z"
    }
   },
   "outputs": [],
   "source": [
    "scaler = preprocessing.StandardScaler().fit(train_x2)\n",
    "scaled_train_x = scaler.transform(train_x2)\n",
    "scaled_test_x = scaler.transform(test_x2)"
   ]
  },
  {
   "cell_type": "markdown",
   "metadata": {},
   "source": [
    "## Separate classifiers"
   ]
  },
  {
   "cell_type": "code",
   "execution_count": 20,
   "metadata": {
    "ExecuteTime": {
     "end_time": "2020-04-18T16:47:59.157806Z",
     "start_time": "2020-04-18T16:47:57.731874Z"
    }
   },
   "outputs": [
    {
     "name": "stdout",
     "output_type": "stream",
     "text": [
      "Number of mislabeled points out of a total 10000 points : 4662\n",
      "Accuracy: 0.5338\n"
     ]
    }
   ],
   "source": [
    "gnb = GaussianNB()\n",
    "NB = gnb.fit(scaled_train_x, train_y2)\n",
    "y_pred = NB.predict(scaled_test_x)\n",
    "print(\"Number of mislabeled points out of a total %d points : %d\" % (scaled_test_x.shape[0], (test_y2 != y_pred).sum()))\n",
    "print(\"Accuracy:\",metrics.accuracy_score(test_y2, y_pred))"
   ]
  },
  {
   "cell_type": "code",
   "execution_count": 21,
   "metadata": {
    "ExecuteTime": {
     "end_time": "2020-04-18T16:48:03.873641Z",
     "start_time": "2020-04-18T16:48:00.330325Z"
    }
   },
   "outputs": [],
   "source": [
    "DTclf = tree.DecisionTreeClassifier()\n",
    "DTclf = DTclf.fit(scaled_train_x, train_y2)"
   ]
  },
  {
   "cell_type": "code",
   "execution_count": 22,
   "metadata": {
    "ExecuteTime": {
     "end_time": "2020-04-18T16:48:03.917555Z",
     "start_time": "2020-04-18T16:48:03.875637Z"
    }
   },
   "outputs": [
    {
     "name": "stdout",
     "output_type": "stream",
     "text": [
      "Number of mislabeled points out of a total 10000 points : 1700\n",
      "Accuracy: 0.83\n"
     ]
    }
   ],
   "source": [
    "y_pred = DTclf.predict(scaled_test_x)\n",
    "print(\"Number of mislabeled points out of a total %d points : %d\" % (scaled_test_x.shape[0], (test_y2 != y_pred).sum()))\n",
    "print(\"Accuracy:\",metrics.accuracy_score(test_y2, y_pred))"
   ]
  },
  {
   "cell_type": "code",
   "execution_count": 23,
   "metadata": {
    "ExecuteTime": {
     "end_time": "2020-04-18T16:49:24.505565Z",
     "start_time": "2020-04-18T16:48:06.462128Z"
    }
   },
   "outputs": [
    {
     "name": "stderr",
     "output_type": "stream",
     "text": [
      "c:\\users\\merna\\appdata\\local\\programs\\python\\python37\\lib\\site-packages\\sklearn\\svm\\_base.py:947: ConvergenceWarning: Liblinear failed to converge, increase the number of iterations.\n",
      "  \"the number of iterations.\", ConvergenceWarning)\n"
     ]
    },
    {
     "data": {
      "text/plain": [
       "LinearSVC(C=1.0, class_weight=None, dual=True, fit_intercept=True,\n",
       "          intercept_scaling=1, loss='squared_hinge', max_iter=1500,\n",
       "          multi_class='ovr', penalty='l2', random_state=0, tol=1e-05,\n",
       "          verbose=0)"
      ]
     },
     "execution_count": 23,
     "metadata": {},
     "output_type": "execute_result"
    }
   ],
   "source": [
    "SVMclf = LinearSVC(random_state=0, tol=1e-5, max_iter = 1500)\n",
    "SVMclf.fit(scaled_train_x, train_y2)"
   ]
  },
  {
   "cell_type": "code",
   "execution_count": 24,
   "metadata": {
    "ExecuteTime": {
     "end_time": "2020-04-18T16:49:24.545149Z",
     "start_time": "2020-04-18T16:49:24.508247Z"
    }
   },
   "outputs": [
    {
     "name": "stdout",
     "output_type": "stream",
     "text": [
      "Number of mislabeled points out of a total 10000 points : 1236\n",
      "Accuracy: 0.8764\n"
     ]
    }
   ],
   "source": [
    "y_pred = SVMclf.predict(scaled_test_x)\n",
    "print(\"Number of mislabeled points out of a total %d points : %d\" % (scaled_test_x.shape[0], (test_y2 != y_pred).sum()))\n",
    "print(\"Accuracy:\",metrics.accuracy_score(test_y2, y_pred))"
   ]
  },
  {
   "cell_type": "markdown",
   "metadata": {},
   "source": [
    "## Ensemble classifier"
   ]
  },
  {
   "cell_type": "markdown",
   "metadata": {},
   "source": [
    "**Trianed on 15000 sample only because of long training time for 60000**"
   ]
  },
  {
   "cell_type": "code",
   "execution_count": 7,
   "metadata": {
    "ExecuteTime": {
     "end_time": "2020-04-18T15:46:48.952000Z",
     "start_time": "2020-04-18T15:46:48.936051Z"
    }
   },
   "outputs": [],
   "source": [
    "train_yE = train_y2\n",
    "train_xE = train_x2\n",
    "test_yE = test_y2\n",
    "test_xE = test_x2"
   ]
  },
  {
   "cell_type": "code",
   "execution_count": 8,
   "metadata": {
    "ExecuteTime": {
     "end_time": "2020-04-18T15:47:16.939230Z",
     "start_time": "2020-04-18T15:47:16.342766Z"
    }
   },
   "outputs": [],
   "source": [
    "scalerE = preprocessing.StandardScaler().fit(train_xE)\n",
    "scaled_train_x = scalerE.transform(train_xE)\n",
    "scaled_test_x = scalerE.transform(test_xE)"
   ]
  },
  {
   "cell_type": "markdown",
   "metadata": {},
   "source": [
    "**Voting classifier with Bagging or Pasting**"
   ]
  },
  {
   "cell_type": "code",
   "execution_count": 12,
   "metadata": {
    "ExecuteTime": {
     "end_time": "2020-04-18T15:56:03.028111Z",
     "start_time": "2020-04-18T15:56:03.015141Z"
    }
   },
   "outputs": [],
   "source": [
    "voteEN = VotingClassifier([('svc', SVC(kernel='linear',probability=True)),\n",
    "                            ('gnb', GaussianNB()),\n",
    "                            ('dt', tree.DecisionTreeClassifier())], voting='soft')"
   ]
  },
  {
   "cell_type": "markdown",
   "metadata": {},
   "source": [
    "**Bagging**"
   ]
  },
  {
   "cell_type": "code",
   "execution_count": 13,
   "metadata": {
    "ExecuteTime": {
     "end_time": "2020-04-18T16:08:07.256181Z",
     "start_time": "2020-04-18T15:56:06.383408Z"
    }
   },
   "outputs": [],
   "source": [
    "bagging = BaggingClassifier(base_estimator=voteEN, n_estimators=10, random_state=0)\n",
    "bagging = bagging.fit(scaled_train_x, train_yE)"
   ]
  },
  {
   "cell_type": "code",
   "execution_count": 14,
   "metadata": {
    "ExecuteTime": {
     "end_time": "2020-04-18T16:12:27.051694Z",
     "start_time": "2020-04-18T16:08:25.326783Z"
    }
   },
   "outputs": [
    {
     "name": "stdout",
     "output_type": "stream",
     "text": [
      "Number of mislabeled points out of a total 10000 points : 935\n",
      "Accuracy: 0.9065\n"
     ]
    }
   ],
   "source": [
    "y_pred = bagging.predict(scaled_test_x)\n",
    "print(\"Number of mislabeled points out of a total %d points : %d\" % (scaled_test_x.shape[0], (test_yE != y_pred).sum()))\n",
    "print(\"Accuracy:\",metrics.accuracy_score(test_yE, y_pred))"
   ]
  },
  {
   "cell_type": "markdown",
   "metadata": {},
   "source": [
    "**Pasting**"
   ]
  },
  {
   "cell_type": "code",
   "execution_count": 15,
   "metadata": {
    "ExecuteTime": {
     "end_time": "2020-04-18T16:40:05.693970Z",
     "start_time": "2020-04-18T16:15:33.623017Z"
    }
   },
   "outputs": [],
   "source": [
    "pasting = BaggingClassifier(base_estimator=vote, n_estimators=10, random_state=0, bootstrap = False)\n",
    "pasting = pasting.fit(scaled_train_x, train_yE)"
   ]
  },
  {
   "cell_type": "code",
   "execution_count": 16,
   "metadata": {
    "ExecuteTime": {
     "end_time": "2020-04-18T16:45:25.515797Z",
     "start_time": "2020-04-18T16:40:05.696961Z"
    }
   },
   "outputs": [
    {
     "name": "stdout",
     "output_type": "stream",
     "text": [
      "Number of mislabeled points out of a total 10000 points : 1141\n",
      "Accuracy: 0.8859\n"
     ]
    }
   ],
   "source": [
    "y_pred = pasting.predict(scaled_test_x)\n",
    "print(\"Number of mislabeled points out of a total %d points : %d\" % (scaled_test_x.shape[0], (test_yE != y_pred).sum()))\n",
    "print(\"Accuracy:\",metrics.accuracy_score(test_yE, y_pred))"
   ]
  },
  {
   "cell_type": "markdown",
   "metadata": {},
   "source": [
    "**Voting classifier on its own**"
   ]
  },
  {
   "cell_type": "code",
   "execution_count": 9,
   "metadata": {
    "ExecuteTime": {
     "end_time": "2020-04-18T15:50:20.052602Z",
     "start_time": "2020-04-18T15:47:45.734626Z"
    }
   },
   "outputs": [],
   "source": [
    "vote = VotingClassifier([('svc', SVC(kernel='linear',probability=True)),\n",
    "                            ('gnb', GaussianNB()),\n",
    "                            ('dt', tree.DecisionTreeClassifier())], voting='soft')\n",
    "# 'lsvc', LinearSVC())\n",
    "vote = vote.fit(scaled_train_x, train_yE)"
   ]
  },
  {
   "cell_type": "code",
   "execution_count": 10,
   "metadata": {
    "ExecuteTime": {
     "end_time": "2020-04-18T15:51:28.054867Z",
     "start_time": "2020-04-18T15:50:54.345681Z"
    }
   },
   "outputs": [
    {
     "name": "stdout",
     "output_type": "stream",
     "text": [
      "Number of mislabeled points out of a total 10000 points : 1234\n",
      "Accuracy: 0.8766\n"
     ]
    }
   ],
   "source": [
    "y_pred = vote.predict(scaled_test_x)\n",
    "print(\"Number of mislabeled points out of a total %d points : %d\" % (scaled_test_x.shape[0], (test_yE != y_pred).sum()))\n",
    "print(\"Accuracy:\",metrics.accuracy_score(test_yE, y_pred))"
   ]
  },
  {
   "cell_type": "markdown",
   "metadata": {},
   "source": [
    "# Comparison"
   ]
  },
  {
   "cell_type": "markdown",
   "metadata": {},
   "source": [
    "|                             | Naive Bayes     | Decision Tree   |  | SVM     || Voting + Bagging  | Voting + Pasting |\n",
    "|---                          |---              |--              -|--|--      -|--|-                --|                --|\n",
    "|Trial 2: Standard scaling    |       53.38%    |       83%       |  |87.64% |     | 90.65%           |      88.59%      | \n",
    "|Trial 1: Binary Thresholding |       54.93%    |       84.09%    |  |85.21% |     |   90.63%         |        89.14%    |"
   ]
  }
 ],
 "metadata": {
  "kernelspec": {
   "display_name": "Python 3",
   "language": "python",
   "name": "python3"
  },
  "language_info": {
   "codemirror_mode": {
    "name": "ipython",
    "version": 3
   },
   "file_extension": ".py",
   "mimetype": "text/x-python",
   "name": "python",
   "nbconvert_exporter": "python",
   "pygments_lexer": "ipython3",
   "version": "3.7.0"
  },
  "toc": {
   "base_numbering": 1,
   "nav_menu": {
    "height": "212px",
    "width": "322px"
   },
   "number_sections": true,
   "sideBar": true,
   "skip_h1_title": false,
   "title_cell": "Table of Contents",
   "title_sidebar": "Contents",
   "toc_cell": false,
   "toc_position": {},
   "toc_section_display": true,
   "toc_window_display": false
  }
 },
 "nbformat": 4,
 "nbformat_minor": 4
}
